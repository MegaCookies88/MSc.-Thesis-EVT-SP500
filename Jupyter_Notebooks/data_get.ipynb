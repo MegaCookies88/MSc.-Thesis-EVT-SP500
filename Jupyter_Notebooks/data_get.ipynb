{
 "cells": [
  {
   "cell_type": "code",
   "execution_count": 1,
   "id": "24c20d30-f41d-4b08-87a8-bb2f00f9ed8c",
   "metadata": {},
   "outputs": [],
   "source": [
    "import pandas as pd\n",
    "import numpy as np\n",
    "import requests\n",
    "import yfinance as yf"
   ]
  },
  {
   "cell_type": "markdown",
   "id": "38eec370-adc4-4cd7-97a8-d6e3dde4c937",
   "metadata": {},
   "source": [
    "# Tickers Lists"
   ]
  },
  {
   "cell_type": "markdown",
   "id": "d9d6d438-b526-4116-b982-33b61ce1a0ec",
   "metadata": {},
   "source": [
    "## Sectors"
   ]
  },
  {
   "cell_type": "code",
   "execution_count": 2,
   "id": "715174f8-4152-4692-9745-776040052953",
   "metadata": {},
   "outputs": [],
   "source": [
    "sp_sectors = {\n",
    "    'S&P Communication Services': 'XLC',\n",
    "    'S&P Consumer Discretionary': 'XLY',\n",
    "    'S&P Consumer Staples': 'XLP',\n",
    "    'S&P Energy Select': 'XLE',\n",
    "    'S&P Financial': 'XLF',\n",
    "    'S&P Health Care': 'XLV',\n",
    "    'S&P Industrial': 'XLI',\n",
    "    'S&P Materials': 'XLB',\n",
    "    'S&P Real Estate': 'XLRE',\n",
    "    'S&P Technology': 'XLK',\n",
    "    'S&P Utilities': 'XLU'\n",
    "}"
   ]
  },
  {
   "cell_type": "code",
   "execution_count": 3,
   "id": "b6278f6d-08f3-4bd5-b7e0-3807b163af81",
   "metadata": {},
   "outputs": [],
   "source": [
    "sp_sectors2 = {\n",
    "    'S&P Market': '^GSPC',\n",
    "    'S&P Communication Services': '^SP500-50',\n",
    "    'S&P Consumer Discretionary': '^SP500-25',\n",
    "    'S&P Consumer Staples': '^SP500-30',\n",
    "    'S&P Energy': '^GSPE',\n",
    "    'S&P Financial': '^SP500-40',\n",
    "    'S&P Health Care': '^SP500-35',\n",
    "    'S&P Industrial': '^SP500-20',\n",
    "    'S&P Materials': '^SP500-15',\n",
    "    'S&P Real Estate': '^SP500-60',\n",
    "    'S&P Technology': '^SP500-45',\n",
    "    'S&P Utilities': '^SP500-55'\n",
    "}"
   ]
  },
  {
   "cell_type": "markdown",
   "id": "5437c235-9263-4890-926b-203b3044854a",
   "metadata": {},
   "source": [
    "## World Indices"
   ]
  },
  {
   "cell_type": "code",
   "execution_count": 4,
   "id": "6fefd0a7-156a-4228-98cc-7d5cfe9250d4",
   "metadata": {},
   "outputs": [],
   "source": [
    "countries = {\n",
    "    'USA': '^GSPC',\n",
    "    'Canada': '^GSPTSE',\n",
    "    'UK' : '^FTSE',\n",
    "    'Switzerland': '^SSMI',\n",
    "    'France': '^FCHI',\n",
    "    'Germany': '^GDAXI',\n",
    "    'Europe': '^N100',\n",
    "    'Russia': 'IMOEX.ME',\n",
    "    'Japan': '^N225',\n",
    "    'China': '000001.SS',\n",
    "    'Hong Kong': '^HSI',\n",
    "    'Taiwan': '^TWII',\n",
    "    'India': '^BSESN',\n",
    "    'Brazil': '^BVSP',\n",
    "    'Mexico': '^MXX'\n",
    "}"
   ]
  },
  {
   "cell_type": "code",
   "execution_count": 5,
   "id": "7ef11f9a-636a-47cf-b035-c1292f1fbe92",
   "metadata": {},
   "outputs": [
    {
     "data": {
      "text/plain": [
       "{'S&P 500': '^GSPC',\n",
       " 'Dow 30': '^DJI',\n",
       " 'Nasdaq': '^IXIC',\n",
       " 'NYSE COMPOSITE (DJ)': '^NYA',\n",
       " 'NYSE AMEX COMPOSITE INDEX': '^XAX',\n",
       " 'Cboe UK 100': '^BUK100P',\n",
       " 'Russell 2000': '^RUT',\n",
       " 'CBOE Volatility Index': '^VIX',\n",
       " 'FTSE 100': '^FTSE',\n",
       " 'DAX PERFORMANCE-INDEX': '^GDAXI',\n",
       " 'CAC 40': '^FCHI',\n",
       " 'ESTX 50 PR.EUR': '^STOXX50E',\n",
       " 'Euronext 100 Index': '^N100',\n",
       " 'BEL 20': '^BFX',\n",
       " 'MOEX Russia Index': 'IMOEX.ME',\n",
       " 'Nikkei 225': '^N225',\n",
       " 'HANG SENG INDEX': '^HSI',\n",
       " 'SSE Composite Index': '000001.SS',\n",
       " 'Shenzhen Component': '399001.SZ',\n",
       " 'STI Index': '^STI',\n",
       " 'S&P/ASX 200': '^AXJO',\n",
       " 'ALL ORDINARIES': '^AORD',\n",
       " 'S&P BSE SENSEX': '^BSESN',\n",
       " 'Jakarta Composite Index': '^JKSE',\n",
       " 'FTSE Bursa Malaysia KLCI': '^KLSE',\n",
       " 'S&P/NZX 50 INDEX GROSS': '^NZ50',\n",
       " 'KOSPI Composite Index': '^KS11',\n",
       " 'TSEC weighted index': '^TWII',\n",
       " 'S&P/TSX Composite index': '^GSPTSE',\n",
       " 'IBOVESPA': '^BVSP',\n",
       " 'IPC MEXICO': '^MXX',\n",
       " 'S&P/CLX IPSA': '^IPSA',\n",
       " 'MERVAL': '^MERV',\n",
       " 'TA-125': '^TA125.TA',\n",
       " 'EGX 30 Price Return Index': '^CASE30',\n",
       " 'Top 40 USD Net TRI Index': '^JN0U.JO'}"
      ]
     },
     "execution_count": 5,
     "metadata": {},
     "output_type": "execute_result"
    }
   ],
   "source": [
    "url_link = 'https://finance.yahoo.com/world-indices'\n",
    "r = requests.get(url_link, headers={'User-Agent':'Mozilla/5.0 (Windows NT 10.0; Win64; x64) AppleWebKit/537.36 (KHTML, like Gecko) Chrome/91.0.4472.124 Safari/537.36'})\n",
    "infos = pd.read_html(r.text)[0]\n",
    "\n",
    "world_indices = dict(zip(infos.Name,infos.Symbol))\n",
    "world_indices"
   ]
  },
  {
   "cell_type": "markdown",
   "id": "f0781005-4223-468e-a1bc-f0d866a4de85",
   "metadata": {},
   "source": [
    "## Commodities"
   ]
  },
  {
   "cell_type": "code",
   "execution_count": 6,
   "id": "1a044db4-2199-4129-8151-f9425ae808a4",
   "metadata": {},
   "outputs": [
    {
     "data": {
      "text/plain": [
       "{'E-Mini S&P 500 Jun 22': 'ES=F',\n",
       " 'Mini Dow Jones Indus.-$5 Jun 22': 'YM=F',\n",
       " 'Nasdaq 100 Jun 22': 'NQ=F',\n",
       " 'E-mini Russell 2000 Index Futur': 'RTY=F',\n",
       " 'U.S. Treasury Bond Futures,Jun-': 'ZB=F',\n",
       " '10-Year T-Note Futures,Jun-2022': 'ZN=F',\n",
       " 'Five-Year US Treasury Note Futu': 'ZF=F',\n",
       " '2-Year T-Note Futures,Jun-2022': 'ZT=F',\n",
       " 'Gold': 'GC=F',\n",
       " 'Micro Gold Futures,Jun-2022': 'MGC=F',\n",
       " 'Silver': 'SI=F',\n",
       " 'Micro Silver Futures,May-2022': 'SIL=F',\n",
       " 'Platinum Apr 22': 'PL=F',\n",
       " 'Copper May 22': 'HG=F',\n",
       " 'Palladium Jun 22': 'PA=F',\n",
       " 'Crude Oil': 'CL=F',\n",
       " 'Heating Oil Apr 22': 'HO=F',\n",
       " 'Natural Gas Apr 22': 'NG=F',\n",
       " 'RBOB Gasoline Apr 22': 'RB=F',\n",
       " 'Brent Crude Oil Last Day Financ': 'BZ=F',\n",
       " 'Mont Belvieu LDH Propane (OPIS)': 'B0=F',\n",
       " 'Corn Futures,May-2022': 'ZC=F',\n",
       " 'Oat Futures,May-2022': 'ZO=F',\n",
       " 'KC HRW Wheat Futures,Jul-2022': 'KE=F',\n",
       " 'Rough Rice Futures,May-2022': 'ZR=F',\n",
       " 'Soybean Meal Futures,May-2022': 'ZM=F',\n",
       " 'Soybean Oil Futures,May-2022': 'ZL=F',\n",
       " 'Soybean Futures,May-2022': 'ZS=F',\n",
       " 'Feeder Cattle Futures,May-2022': 'GF=F',\n",
       " 'Lean Hogs Futures,Apr-2022': 'HE=F',\n",
       " 'Live Cattle Futures,Apr-2022': 'LE=F',\n",
       " 'Cocoa May 22': 'CC=F',\n",
       " 'Coffee May 22': 'KC=F',\n",
       " 'Cotton May 22': 'CT=F',\n",
       " 'Random Length Lumber Futures': 'LBS=F',\n",
       " 'Orange Juice May 22': 'OJ=F',\n",
       " 'Sugar #11 May 22': 'SB=F'}"
      ]
     },
     "execution_count": 6,
     "metadata": {},
     "output_type": "execute_result"
    }
   ],
   "source": [
    "url_link = 'https://finance.yahoo.com/commodities'\n",
    "r = requests.get(url_link, headers={'User-Agent':'Mozilla/5.0 (Windows NT 10.0; Win64; x64) AppleWebKit/537.36 (KHTML, like Gecko) Chrome/91.0.4472.124 Safari/537.36'})\n",
    "infos = pd.read_html(r.text)[0]\n",
    "\n",
    "commodities = dict(zip(infos.Name,infos.Symbol))\n",
    "commodities"
   ]
  },
  {
   "cell_type": "markdown",
   "id": "21d4ab5d-6d1e-4e79-8e2c-87713e4c8861",
   "metadata": {},
   "source": [
    "# Download"
   ]
  },
  {
   "cell_type": "code",
   "execution_count": 7,
   "id": "3805c966-e6c4-4ac7-bc3f-08820316e634",
   "metadata": {},
   "outputs": [
    {
     "name": "stdout",
     "output_type": "stream",
     "text": [
      "[*********************100%***********************]  11 of 11 completed\n"
     ]
    }
   ],
   "source": [
    "df = yf.download(tickers=list(sp_sectors.values()), period='max', group_by='ticker')\n",
    "df = df.T.xs('Adj Close', level=1, drop_level=True).T\n",
    "#df = df.rename(columns=dict(map(reversed, sp_sectors.items())))\n",
    "df.to_csv('data/sp_sectors.csv')"
   ]
  },
  {
   "cell_type": "code",
   "execution_count": 8,
   "id": "69744c93-afac-43cc-9803-956a31fadeb6",
   "metadata": {},
   "outputs": [
    {
     "name": "stdout",
     "output_type": "stream",
     "text": [
      "[*********************100%***********************]  12 of 12 completed\n"
     ]
    }
   ],
   "source": [
    "df = yf.download(tickers=list(sp_sectors2.values()), period='max', group_by='ticker')\n",
    "df = df.T.xs('Adj Close', level=1, drop_level=True).T\n",
    "df = df.rename(columns=dict(map(reversed, sp_sectors2.items())))\n",
    "df.to_csv('data/sp_sectors2.csv')"
   ]
  },
  {
   "cell_type": "code",
   "execution_count": 9,
   "id": "ba33eef3-e46c-4518-a8a8-3de9ee87b5f5",
   "metadata": {},
   "outputs": [
    {
     "name": "stdout",
     "output_type": "stream",
     "text": [
      "[*********************100%***********************]  15 of 15 completed\n"
     ]
    }
   ],
   "source": [
    "df = yf.download(tickers=list(countries.values()), period='max', group_by='ticker')\n",
    "df = df.T.xs('Adj Close', level=1, drop_level=True).T\n",
    "df.to_csv('data/countries.csv')"
   ]
  },
  {
   "cell_type": "code",
   "execution_count": 10,
   "id": "3e0187fa-7758-41a3-8c28-88e3c3e49ee0",
   "metadata": {},
   "outputs": [
    {
     "name": "stdout",
     "output_type": "stream",
     "text": [
      "[*********************100%***********************]  36 of 36 completed\n"
     ]
    }
   ],
   "source": [
    "df = yf.download(tickers=list(world_indices.values()), period='max', group_by='ticker')\n",
    "df = df.T.xs('Adj Close', level=1, drop_level=True).T\n",
    "df.to_csv('data/world_indices.csv')"
   ]
  },
  {
   "cell_type": "code",
   "execution_count": 11,
   "id": "afcb4c1e-bf3d-4b4d-8201-21ed53d4b0bf",
   "metadata": {},
   "outputs": [
    {
     "name": "stdout",
     "output_type": "stream",
     "text": [
      "[*********************100%***********************]  37 of 37 completed\n"
     ]
    }
   ],
   "source": [
    "df = yf.download(tickers=list(commodities.values()), period='max', group_by='ticker')\n",
    "df = df.T.xs('Adj Close', level=1, drop_level=True).T\n",
    "df.to_csv('data/commodities.csv')"
   ]
  }
 ],
 "metadata": {
  "kernelspec": {
   "display_name": "Python 3 (ipykernel)",
   "language": "python",
   "name": "python3"
  },
  "language_info": {
   "codemirror_mode": {
    "name": "ipython",
    "version": 3
   },
   "file_extension": ".py",
   "mimetype": "text/x-python",
   "name": "python",
   "nbconvert_exporter": "python",
   "pygments_lexer": "ipython3",
   "version": "3.8.12"
  }
 },
 "nbformat": 4,
 "nbformat_minor": 5
}
