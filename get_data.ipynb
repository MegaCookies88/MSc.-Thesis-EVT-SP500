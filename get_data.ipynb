{
 "cells": [
  {
   "cell_type": "code",
   "execution_count": 1,
   "id": "24c20d30-f41d-4b08-87a8-bb2f00f9ed8c",
   "metadata": {},
   "outputs": [],
   "source": [
    "import pandas as pd\n",
    "import numpy as np\n",
    "import yfinance as yf"
   ]
  },
  {
   "cell_type": "markdown",
   "id": "38eec370-adc4-4cd7-97a8-d6e3dde4c937",
   "metadata": {},
   "source": [
    "# Tickers Lists"
   ]
  },
  {
   "cell_type": "code",
   "execution_count": 2,
   "id": "41121306-5f54-4cb9-a94d-e575ac55301c",
   "metadata": {},
   "outputs": [],
   "source": [
    "sp_sectors = {\n",
    "    'S&P Communication Services': 'XLC',\n",
    "    'S&P Consumer Discretionary': 'XLY',\n",
    "    'S&P Consumer Staples': 'XLP',\n",
    "    'S&P Energy Select': 'XLE',\n",
    "    'S&P Financial': 'XLF',\n",
    "    'S&P Health Care': 'XLV',\n",
    "    'S&P Industrial': 'XLI',\n",
    "    'S&P Materials': 'XLB',\n",
    "    'S&P Real Estate': 'XLRE',\n",
    "    'S&P Technology': 'XLK',\n",
    "    'S&P Utilities': 'XLU'\n",
    "}\n",
    "\n",
    "countries = {\n",
    "    'usa': '^GSPC',\n",
    "    'canada': '^GSPTSE',\n",
    "    'uk' : '^FTSE',\n",
    "    'switzerland': '^SSMI',\n",
    "    'france': '^FCHI',\n",
    "    'germany': '^GDAXI',\n",
    "    'euro': '^N100',\n",
    "    'japan': '^N225',\n",
    "    'china': '000001.SS',\n",
    "    'hong kong': '^HSI',\n",
    "    'taiwan': '^TWII',\n",
    "    'india': '^BSESN',\n",
    "    'brazil': '^BVSP',\n",
    "    'mexico': '^MXX'\n",
    "}"
   ]
  },
  {
   "cell_type": "markdown",
   "id": "21d4ab5d-6d1e-4e79-8e2c-87713e4c8861",
   "metadata": {},
   "source": [
    "# Download"
   ]
  },
  {
   "cell_type": "code",
   "execution_count": 3,
   "id": "3805c966-e6c4-4ac7-bc3f-08820316e634",
   "metadata": {},
   "outputs": [
    {
     "name": "stdout",
     "output_type": "stream",
     "text": [
      "[*********************100%***********************]  11 of 11 completed\n"
     ]
    }
   ],
   "source": [
    "df = yf.download(tickers=list(sp_sectors.values()), period='max', group_by='ticker')\n",
    "df = df.T.xs('Adj Close', level=1, drop_level=True).T\n",
    "df.to_csv('data/sp_sectors.csv')"
   ]
  },
  {
   "cell_type": "code",
   "execution_count": 4,
   "id": "ba33eef3-e46c-4518-a8a8-3de9ee87b5f5",
   "metadata": {},
   "outputs": [
    {
     "name": "stdout",
     "output_type": "stream",
     "text": [
      "[*********************100%***********************]  14 of 14 completed\n"
     ]
    }
   ],
   "source": [
    "df = yf.download(tickers=list(countries.values()), period='max', group_by='ticker')\n",
    "df = df.T.xs('Adj Close', level=1, drop_level=True).T\n",
    "df.to_csv('data/countries.csv')"
   ]
  },
  {
   "cell_type": "code",
   "execution_count": null,
   "id": "6a9daf89-9538-472f-ae26-293d2d0b3f8f",
   "metadata": {},
   "outputs": [],
   "source": []
  }
 ],
 "metadata": {
  "kernelspec": {
   "display_name": "Python 3 (ipykernel)",
   "language": "python",
   "name": "python3"
  },
  "language_info": {
   "codemirror_mode": {
    "name": "ipython",
    "version": 3
   },
   "file_extension": ".py",
   "mimetype": "text/x-python",
   "name": "python",
   "nbconvert_exporter": "python",
   "pygments_lexer": "ipython3",
   "version": "3.8.12"
  }
 },
 "nbformat": 4,
 "nbformat_minor": 5
}
